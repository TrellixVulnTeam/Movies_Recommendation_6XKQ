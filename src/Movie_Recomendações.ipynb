{
 "cells": [
  {
   "cell_type": "code",
   "execution_count": 26,
   "metadata": {
    "collapsed": true,
    "pycharm": {
     "is_executing": false
    }
   },
   "outputs": [],
   "source": [
    "import numpy as np \n",
    "import pandas as pd \n",
    "import matplotlib.pyplot as plt\n",
    "from sklearn.metrics import pairwise_distances\n",
    "from scipy.spatial.distance import cosine, correlation"
   ]
  },
  {
   "cell_type": "code",
   "execution_count": 28,
   "outputs": [
    {
     "data": {
      "text/plain": "   movie_id              title release_date  video_release_date  \\\n0         1   Toy Story (1995)  01-Jan-1995                 NaN   \n1         4  Get Shorty (1995)  01-Jan-1995                 NaN   \n\n                                            imdb_url  user_id  rating  \\\n0  http://us.imdb.com/M/title-exact?Toy%20Story%2...      308       4   \n1  http://us.imdb.com/M/title-exact?Get%20Shorty%...      308       5   \n\n   unix_timestamp  age sex occupation zip_code  \n0       887736532   60   M    retired    95076  \n1       887737890   60   M    retired    95076  ",
      "text/html": "<div>\n<style scoped>\n    .dataframe tbody tr th:only-of-type {\n        vertical-align: middle;\n    }\n\n    .dataframe tbody tr th {\n        vertical-align: top;\n    }\n\n    .dataframe thead th {\n        text-align: right;\n    }\n</style>\n<table border=\"1\" class=\"dataframe\">\n  <thead>\n    <tr style=\"text-align: right;\">\n      <th></th>\n      <th>movie_id</th>\n      <th>title</th>\n      <th>release_date</th>\n      <th>video_release_date</th>\n      <th>imdb_url</th>\n      <th>user_id</th>\n      <th>rating</th>\n      <th>unix_timestamp</th>\n      <th>age</th>\n      <th>sex</th>\n      <th>occupation</th>\n      <th>zip_code</th>\n    </tr>\n  </thead>\n  <tbody>\n    <tr>\n      <td>0</td>\n      <td>1</td>\n      <td>Toy Story (1995)</td>\n      <td>01-Jan-1995</td>\n      <td>NaN</td>\n      <td>http://us.imdb.com/M/title-exact?Toy%20Story%2...</td>\n      <td>308</td>\n      <td>4</td>\n      <td>887736532</td>\n      <td>60</td>\n      <td>M</td>\n      <td>retired</td>\n      <td>95076</td>\n    </tr>\n    <tr>\n      <td>1</td>\n      <td>4</td>\n      <td>Get Shorty (1995)</td>\n      <td>01-Jan-1995</td>\n      <td>NaN</td>\n      <td>http://us.imdb.com/M/title-exact?Get%20Shorty%...</td>\n      <td>308</td>\n      <td>5</td>\n      <td>887737890</td>\n      <td>60</td>\n      <td>M</td>\n      <td>retired</td>\n      <td>95076</td>\n    </tr>\n  </tbody>\n</table>\n</div>"
     },
     "metadata": {},
     "output_type": "execute_result",
     "execution_count": 28
    }
   ],
   "source": [
    "u_cols = ['user_id', 'age', 'sex', 'occupation', 'zip_code']\n",
    "users = pd.read_csv('ml-100k/u.user', sep='|', names=u_cols,\n",
    "                    encoding='latin-1', parse_dates=True) \n",
    "r_cols = ['user_id', 'movie_id', 'rating', 'unix_timestamp']\n",
    "ratings = pd.read_csv('ml-100k/u.data', sep='\\t', names=r_cols,\n",
    "                      encoding='latin-1')\n",
    "\n",
    "m_cols = ['movie_id', 'title', 'release_date', 'video_release_date', 'imdb_url']\n",
    "movies = pd.read_csv('ml-100k/u.item', sep='|', names=m_cols, usecols=range(5),\n",
    "                     encoding='latin-1')\n",
    "\n",
    "movie_ratings = pd.merge(movies, ratings)\n",
    "df = pd.merge(movie_ratings, users)\n",
    "\n",
    "df.head(2)"
   ],
   "metadata": {
    "collapsed": false,
    "pycharm": {
     "name": "#%%\n",
     "is_executing": false
    }
   }
  },
  {
   "cell_type": "code",
   "execution_count": 15,
   "outputs": [
    {
     "data": {
      "text/plain": "   user_id  movie_id  rating  unix_timestamp\n0      196       242       3       881250949",
      "text/html": "<div>\n<style scoped>\n    .dataframe tbody tr th:only-of-type {\n        vertical-align: middle;\n    }\n\n    .dataframe tbody tr th {\n        vertical-align: top;\n    }\n\n    .dataframe thead th {\n        text-align: right;\n    }\n</style>\n<table border=\"1\" class=\"dataframe\">\n  <thead>\n    <tr style=\"text-align: right;\">\n      <th></th>\n      <th>user_id</th>\n      <th>movie_id</th>\n      <th>rating</th>\n      <th>unix_timestamp</th>\n    </tr>\n  </thead>\n  <tbody>\n    <tr>\n      <td>0</td>\n      <td>196</td>\n      <td>242</td>\n      <td>3</td>\n      <td>881250949</td>\n    </tr>\n  </tbody>\n</table>\n</div>"
     },
     "metadata": {},
     "output_type": "execute_result",
     "execution_count": 15
    }
   ],
   "source": [
    "\n",
    "ratings.head(1)"
   ],
   "metadata": {
    "collapsed": false,
    "pycharm": {
     "name": "#%%\n",
     "is_executing": false
    }
   }
  },
  {
   "cell_type": "code",
   "execution_count": 17,
   "outputs": [
    {
     "data": {
      "text/plain": "   movie_id             title release_date  video_release_date  \\\n0         1  Toy Story (1995)  01-Jan-1995                 NaN   \n\n                                            imdb_url  \n0  http://us.imdb.com/M/title-exact?Toy%20Story%2...  ",
      "text/html": "<div>\n<style scoped>\n    .dataframe tbody tr th:only-of-type {\n        vertical-align: middle;\n    }\n\n    .dataframe tbody tr th {\n        vertical-align: top;\n    }\n\n    .dataframe thead th {\n        text-align: right;\n    }\n</style>\n<table border=\"1\" class=\"dataframe\">\n  <thead>\n    <tr style=\"text-align: right;\">\n      <th></th>\n      <th>movie_id</th>\n      <th>title</th>\n      <th>release_date</th>\n      <th>video_release_date</th>\n      <th>imdb_url</th>\n    </tr>\n  </thead>\n  <tbody>\n    <tr>\n      <td>0</td>\n      <td>1</td>\n      <td>Toy Story (1995)</td>\n      <td>01-Jan-1995</td>\n      <td>NaN</td>\n      <td>http://us.imdb.com/M/title-exact?Toy%20Story%2...</td>\n    </tr>\n  </tbody>\n</table>\n</div>"
     },
     "metadata": {},
     "output_type": "execute_result",
     "execution_count": 17
    }
   ],
   "source": [
    "movies.head(1)"
   ],
   "metadata": {
    "collapsed": false,
    "pycharm": {
     "name": "#%%\n",
     "is_executing": false
    }
   }
  },
  {
   "cell_type": "code",
   "execution_count": 19,
   "outputs": [
    {
     "data": {
      "text/plain": "   user_id  age sex  occupation zip_code\n0        1   24   M  technician    85711",
      "text/html": "<div>\n<style scoped>\n    .dataframe tbody tr th:only-of-type {\n        vertical-align: middle;\n    }\n\n    .dataframe tbody tr th {\n        vertical-align: top;\n    }\n\n    .dataframe thead th {\n        text-align: right;\n    }\n</style>\n<table border=\"1\" class=\"dataframe\">\n  <thead>\n    <tr style=\"text-align: right;\">\n      <th></th>\n      <th>user_id</th>\n      <th>age</th>\n      <th>sex</th>\n      <th>occupation</th>\n      <th>zip_code</th>\n    </tr>\n  </thead>\n  <tbody>\n    <tr>\n      <td>0</td>\n      <td>1</td>\n      <td>24</td>\n      <td>M</td>\n      <td>technician</td>\n      <td>85711</td>\n    </tr>\n  </tbody>\n</table>\n</div>"
     },
     "metadata": {},
     "output_type": "execute_result",
     "execution_count": 19
    }
   ],
   "source": [
    "users.head(1)"
   ],
   "metadata": {
    "collapsed": false,
    "pycharm": {
     "name": "#%%\n",
     "is_executing": false
    }
   }
  },
  {
   "cell_type": "code",
   "execution_count": 29,
   "outputs": [
    {
     "name": "stdout",
     "text": [
      "<class 'pandas.core.frame.DataFrame'>\nInt64Index: 100000 entries, 0 to 99999\nData columns (total 9 columns):\nmovie_id        100000 non-null int64\ntitle           100000 non-null object\nrelease_date    99991 non-null object\nuser_id         100000 non-null int64\nrating          100000 non-null int64\nage             100000 non-null int64\nsex             100000 non-null object\noccupation      100000 non-null object\nzip_code        100000 non-null object\ndtypes: int64(4), object(5)\nmemory usage: 7.6+ MB\n"
     ],
     "output_type": "stream"
    }
   ],
   "source": [
    "#Pré-Processamento dos Dados\n",
    "df.drop(df.columns[[3,4,7]], axis=1, inplace=True)\n",
    "ratings.drop(\"unix_timestamp\", inplace = True, axis = 1) \n",
    "movies.drop(movies.columns[[3,4]], inplace = True, axis = 1)\n",
    "#Dropping all the columns that are not really needed\n",
    "df.info()"
   ],
   "metadata": {
    "collapsed": false,
    "pycharm": {
     "name": "#%%\n",
     "is_executing": false
    }
   }
  },
  {
   "cell_type": "code",
   "execution_count": 32,
   "outputs": [
    {
     "data": {
      "text/plain": "                          rating          \n                            size      mean\ntitle                                     \n'Til There Was You (1997)      9  2.333333\n1-900 (1994)                   5  2.600000\n101 Dalmatians (1996)        109  2.908257\n12 Angry Men (1957)          125  4.344000\n187 (1997)                    41  3.024390",
      "text/html": "<div>\n<style scoped>\n    .dataframe tbody tr th:only-of-type {\n        vertical-align: middle;\n    }\n\n    .dataframe tbody tr th {\n        vertical-align: top;\n    }\n\n    .dataframe thead tr th {\n        text-align: left;\n    }\n\n    .dataframe thead tr:last-of-type th {\n        text-align: right;\n    }\n</style>\n<table border=\"1\" class=\"dataframe\">\n  <thead>\n    <tr>\n      <th></th>\n      <th colspan=\"2\" halign=\"left\">rating</th>\n    </tr>\n    <tr>\n      <th></th>\n      <th>size</th>\n      <th>mean</th>\n    </tr>\n    <tr>\n      <th>title</th>\n      <th></th>\n      <th></th>\n    </tr>\n  </thead>\n  <tbody>\n    <tr>\n      <td>'Til There Was You (1997)</td>\n      <td>9</td>\n      <td>2.333333</td>\n    </tr>\n    <tr>\n      <td>1-900 (1994)</td>\n      <td>5</td>\n      <td>2.600000</td>\n    </tr>\n    <tr>\n      <td>101 Dalmatians (1996)</td>\n      <td>109</td>\n      <td>2.908257</td>\n    </tr>\n    <tr>\n      <td>12 Angry Men (1957)</td>\n      <td>125</td>\n      <td>4.344000</td>\n    </tr>\n    <tr>\n      <td>187 (1997)</td>\n      <td>41</td>\n      <td>3.024390</td>\n    </tr>\n  </tbody>\n</table>\n</div>"
     },
     "metadata": {},
     "output_type": "execute_result",
     "execution_count": 32
    }
   ],
   "source": [
    "movie_stats = df.groupby('title').agg({'rating': [np.size, np.mean]})\n",
    "movie_stats.head()"
   ],
   "metadata": {
    "collapsed": false,
    "pycharm": {
     "name": "#%%\n",
     "is_executing": false
    }
   }
  },
  {
   "cell_type": "code",
   "execution_count": 35,
   "outputs": [
    {
     "data": {
      "text/plain": "                                                   rating          \n                                                     size      mean\ntitle                                                              \nClose Shave, A (1995)                                 112  4.491071\nSchindler's List (1993)                               298  4.466443\nWrong Trousers, The (1993)                            118  4.466102\nCasablanca (1942)                                     243  4.456790\nWallace & Gromit: The Best of Aardman Animation...     67  4.447761\nShawshank Redemption, The (1994)                      283  4.445230\nRear Window (1954)                                    209  4.387560\nUsual Suspects, The (1995)                            267  4.385768\nStar Wars (1977)                                      583  4.358491\n12 Angry Men (1957)                                   125  4.344000",
      "text/html": "<div>\n<style scoped>\n    .dataframe tbody tr th:only-of-type {\n        vertical-align: middle;\n    }\n\n    .dataframe tbody tr th {\n        vertical-align: top;\n    }\n\n    .dataframe thead tr th {\n        text-align: left;\n    }\n\n    .dataframe thead tr:last-of-type th {\n        text-align: right;\n    }\n</style>\n<table border=\"1\" class=\"dataframe\">\n  <thead>\n    <tr>\n      <th></th>\n      <th colspan=\"2\" halign=\"left\">rating</th>\n    </tr>\n    <tr>\n      <th></th>\n      <th>size</th>\n      <th>mean</th>\n    </tr>\n    <tr>\n      <th>title</th>\n      <th></th>\n      <th></th>\n    </tr>\n  </thead>\n  <tbody>\n    <tr>\n      <td>Close Shave, A (1995)</td>\n      <td>112</td>\n      <td>4.491071</td>\n    </tr>\n    <tr>\n      <td>Schindler's List (1993)</td>\n      <td>298</td>\n      <td>4.466443</td>\n    </tr>\n    <tr>\n      <td>Wrong Trousers, The (1993)</td>\n      <td>118</td>\n      <td>4.466102</td>\n    </tr>\n    <tr>\n      <td>Casablanca (1942)</td>\n      <td>243</td>\n      <td>4.456790</td>\n    </tr>\n    <tr>\n      <td>Wallace &amp; Gromit: The Best of Aardman Animation (1996)</td>\n      <td>67</td>\n      <td>4.447761</td>\n    </tr>\n    <tr>\n      <td>Shawshank Redemption, The (1994)</td>\n      <td>283</td>\n      <td>4.445230</td>\n    </tr>\n    <tr>\n      <td>Rear Window (1954)</td>\n      <td>209</td>\n      <td>4.387560</td>\n    </tr>\n    <tr>\n      <td>Usual Suspects, The (1995)</td>\n      <td>267</td>\n      <td>4.385768</td>\n    </tr>\n    <tr>\n      <td>Star Wars (1977)</td>\n      <td>583</td>\n      <td>4.358491</td>\n    </tr>\n    <tr>\n      <td>12 Angry Men (1957)</td>\n      <td>125</td>\n      <td>4.344000</td>\n    </tr>\n  </tbody>\n</table>\n</div>"
     },
     "metadata": {},
     "output_type": "execute_result",
     "execution_count": 35
    }
   ],
   "source": [
    "#Definir um limite de pelo menos 50 classificações para uma melhor análise.\n",
    "min_50 = movie_stats['rating']['size'] >= 50\n",
    "movie_stats[min_50].sort_values([('rating', 'mean')], ascending=False).head(10)"
   ],
   "metadata": {
    "collapsed": false,
    "pycharm": {
     "name": "#%%\n",
     "is_executing": false
    }
   }
  },
  {
   "cell_type": "code",
   "execution_count": 38,
   "outputs": [
    {
     "data": {
      "text/plain": "<Figure size 432x288 with 1 Axes>",
      "image/png": "[encoded data removed]"
     },
     "metadata": {
      "needs_background": "light"
     },
     "output_type": "display_data"
    }
   ],
   "source": [
    "#Gráfico da Distruibuição de Notas\n",
    "ratings.rating.plot.hist(bins=50)\n",
    "plt.title(\"Distribuição das Classificações dos Usuários\")\n",
    "plt.ylabel('Número de Avaliações')\n",
    "plt.xlabel('Nota');"
   ],
   "metadata": {
    "collapsed": false,
    "pycharm": {
     "name": "#%%\n",
     "is_executing": false
    }
   }
  },
  {
   "cell_type": "code",
   "execution_count": 40,
   "outputs": [
    {
     "data": {
      "text/plain": "<Figure size 432x288 with 1 Axes>",
      "image/png": "[encoded data removed]"
     },
     "metadata": {
      "needs_background": "light"
     },
     "output_type": "display_data"
    }
   ],
   "source": [
    "#Gráfico da Distruibuição Etária\n",
    "users.age.plot.hist(bins=25)\n",
    "plt.title(\"Distribuição das Idades dos Usuários\")\n",
    "plt.ylabel('Número de Usuários')\n",
    "plt.xlabel('Idade');\n"
   ],
   "metadata": {
    "collapsed": false,
    "pycharm": {
     "name": "#%%\n",
     "is_executing": false
    }
   }
  },
  {
   "cell_type": "code",
   "execution_count": 42,
   "outputs": [
    {
     "data": {
      "text/plain": "user_id  1    2    3    4    5    6    7    8    9    10   ...  934  935  936  \\\n0        5.0  4.0  0.0  0.0  4.0  4.0  0.0  0.0  0.0  4.0  ...  2.0  3.0  4.0   \n1        3.0  0.0  0.0  0.0  3.0  0.0  0.0  0.0  0.0  0.0  ...  4.0  0.0  0.0   \n2        4.0  0.0  0.0  0.0  0.0  0.0  0.0  0.0  0.0  0.0  ...  0.0  0.0  4.0   \n3        3.0  0.0  0.0  0.0  0.0  0.0  5.0  0.0  0.0  4.0  ...  5.0  0.0  0.0   \n4        3.0  0.0  0.0  0.0  0.0  0.0  0.0  0.0  0.0  0.0  ...  0.0  0.0  0.0   \n\nuser_id  937  938  939  940  941  942  943  \n0        0.0  4.0  0.0  0.0  5.0  0.0  0.0  \n1        0.0  0.0  0.0  0.0  0.0  0.0  5.0  \n2        0.0  0.0  0.0  0.0  0.0  0.0  0.0  \n3        0.0  0.0  0.0  2.0  0.0  0.0  0.0  \n4        0.0  0.0  0.0  0.0  0.0  0.0  0.0  \n\n[5 rows x 943 columns]",
      "text/html": "<div>\n<style scoped>\n    .dataframe tbody tr th:only-of-type {\n        vertical-align: middle;\n    }\n\n    .dataframe tbody tr th {\n        vertical-align: top;\n    }\n\n    .dataframe thead th {\n        text-align: right;\n    }\n</style>\n<table border=\"1\" class=\"dataframe\">\n  <thead>\n    <tr style=\"text-align: right;\">\n      <th>user_id</th>\n      <th>1</th>\n      <th>2</th>\n      <th>3</th>\n      <th>4</th>\n      <th>5</th>\n      <th>6</th>\n      <th>7</th>\n      <th>8</th>\n      <th>9</th>\n      <th>10</th>\n      <th>...</th>\n      <th>934</th>\n      <th>935</th>\n      <th>936</th>\n      <th>937</th>\n      <th>938</th>\n      <th>939</th>\n      <th>940</th>\n      <th>941</th>\n      <th>942</th>\n      <th>943</th>\n    </tr>\n  </thead>\n  <tbody>\n    <tr>\n      <td>0</td>\n      <td>5.0</td>\n      <td>4.0</td>\n      <td>0.0</td>\n      <td>0.0</td>\n      <td>4.0</td>\n      <td>4.0</td>\n      <td>0.0</td>\n      <td>0.0</td>\n      <td>0.0</td>\n      <td>4.0</td>\n      <td>...</td>\n      <td>2.0</td>\n      <td>3.0</td>\n      <td>4.0</td>\n      <td>0.0</td>\n      <td>4.0</td>\n      <td>0.0</td>\n      <td>0.0</td>\n      <td>5.0</td>\n      <td>0.0</td>\n      <td>0.0</td>\n    </tr>\n    <tr>\n      <td>1</td>\n      <td>3.0</td>\n      <td>0.0</td>\n      <td>0.0</td>\n      <td>0.0</td>\n      <td>3.0</td>\n      <td>0.0</td>\n      <td>0.0</td>\n      <td>0.0</td>\n      <td>0.0</td>\n      <td>0.0</td>\n      <td>...</td>\n      <td>4.0</td>\n      <td>0.0</td>\n      <td>0.0</td>\n      <td>0.0</td>\n      <td>0.0</td>\n      <td>0.0</td>\n      <td>0.0</td>\n      <td>0.0</td>\n      <td>0.0</td>\n      <td>5.0</td>\n    </tr>\n    <tr>\n      <td>2</td>\n      <td>4.0</td>\n      <td>0.0</td>\n      <td>0.0</td>\n      <td>0.0</td>\n      <td>0.0</td>\n      <td>0.0</td>\n      <td>0.0</td>\n      <td>0.0</td>\n      <td>0.0</td>\n      <td>0.0</td>\n      <td>...</td>\n      <td>0.0</td>\n      <td>0.0</td>\n      <td>4.0</td>\n      <td>0.0</td>\n      <td>0.0</td>\n      <td>0.0</td>\n      <td>0.0</td>\n      <td>0.0</td>\n      <td>0.0</td>\n      <td>0.0</td>\n    </tr>\n    <tr>\n      <td>3</td>\n      <td>3.0</td>\n      <td>0.0</td>\n      <td>0.0</td>\n      <td>0.0</td>\n      <td>0.0</td>\n      <td>0.0</td>\n      <td>5.0</td>\n      <td>0.0</td>\n      <td>0.0</td>\n      <td>4.0</td>\n      <td>...</td>\n      <td>5.0</td>\n      <td>0.0</td>\n      <td>0.0</td>\n      <td>0.0</td>\n      <td>0.0</td>\n      <td>0.0</td>\n      <td>2.0</td>\n      <td>0.0</td>\n      <td>0.0</td>\n      <td>0.0</td>\n    </tr>\n    <tr>\n      <td>4</td>\n      <td>3.0</td>\n      <td>0.0</td>\n      <td>0.0</td>\n      <td>0.0</td>\n      <td>0.0</td>\n      <td>0.0</td>\n      <td>0.0</td>\n      <td>0.0</td>\n      <td>0.0</td>\n      <td>0.0</td>\n      <td>...</td>\n      <td>0.0</td>\n      <td>0.0</td>\n      <td>0.0</td>\n      <td>0.0</td>\n      <td>0.0</td>\n      <td>0.0</td>\n      <td>0.0</td>\n      <td>0.0</td>\n      <td>0.0</td>\n      <td>0.0</td>\n    </tr>\n  </tbody>\n</table>\n<p>5 rows × 943 columns</p>\n</div>"
     },
     "metadata": {},
     "output_type": "execute_result",
     "execution_count": 42
    }
   ],
   "source": [
    "#Tabela Pivo\n",
    "ratings_matrix = ratings.pivot_table(index=['movie_id'],columns=['user_id'],values='rating').reset_index(drop=True)\n",
    "ratings_matrix.fillna( 0, inplace = True )\n",
    "ratings_matrix.head()"
   ],
   "metadata": {
    "collapsed": false,
    "pycharm": {
     "name": "#%%\n",
     "is_executing": false
    }
   }
  },
  {
   "cell_type": "code",
   "execution_count": 44,
   "outputs": [
    {
     "name": "stderr",
     "text": [
      "c:\\users\\win\\pycharmprojects\\movies\\venv\\lib\\site-packages\\ipykernel_launcher.py:2: FutureWarning: Method .as_matrix will be removed in a future version. Use .values instead.\n  \n"
     ],
     "output_type": "stream"
    },
    {
     "data": {
      "text/plain": "       0         1         2         3         4         5         6     \\\n0  0.000000  0.935912  0.928831  0.957637  0.916233  0.651198  0.978220   \n1  0.935912  0.000000  0.911951  0.959204  0.935695  0.578273  0.926992   \n2  0.928831  0.911951  0.000000  0.918938  0.909503  0.620559  0.944328   \n3  0.957637  0.959204  0.918938  0.000000  0.933211  0.665996  0.962338   \n4  0.916233  0.935695  0.909503  0.933211  0.000000  0.584300  0.922381   \n\n       7         8         9     ...      1672      1673      1674      1675  \\\n0  0.959612  0.961444  0.877940  ...  0.301147  0.364751  0.278488  0.278488   \n1  0.926935  0.885918  0.805475  ...  0.246639  0.308845  0.251910  0.251910   \n2  0.881178  0.908247  0.818130  ...  0.238607  0.276156  0.297600  0.297600   \n3  0.972948  0.948160  0.891714  ...  0.290094  0.385551  0.256391  0.256391   \n4  0.901462  0.891050  0.787281  ...  0.246367  0.292211  0.264669  0.264669   \n\n       1676      1677      1678      1679      1680      1681  \n0  0.391712  0.063420  0.063420  0.063420  0.445386  0.475924  \n1  0.301531  0.050834  0.050834  0.050834  0.478170  0.477571  \n2  0.376613  0.061653  0.061653  0.061653  0.432209  0.516444  \n3  0.357958  0.058033  0.058033  0.058033  0.469420  0.511942  \n4  0.321959  0.054700  0.054700  0.054700  0.451055  0.483451  \n\n[5 rows x 1682 columns]",
      "text/html": "<div>\n<style scoped>\n    .dataframe tbody tr th:only-of-type {\n        vertical-align: middle;\n    }\n\n    .dataframe tbody tr th {\n        vertical-align: top;\n    }\n\n    .dataframe thead th {\n        text-align: right;\n    }\n</style>\n<table border=\"1\" class=\"dataframe\">\n  <thead>\n    <tr style=\"text-align: right;\">\n      <th></th>\n      <th>0</th>\n      <th>1</th>\n      <th>2</th>\n      <th>3</th>\n      <th>4</th>\n      <th>5</th>\n      <th>6</th>\n      <th>7</th>\n      <th>8</th>\n      <th>9</th>\n      <th>...</th>\n      <th>1672</th>\n      <th>1673</th>\n      <th>1674</th>\n      <th>1675</th>\n      <th>1676</th>\n      <th>1677</th>\n      <th>1678</th>\n      <th>1679</th>\n      <th>1680</th>\n      <th>1681</th>\n    </tr>\n  </thead>\n  <tbody>\n    <tr>\n      <td>0</td>\n      <td>0.000000</td>\n      <td>0.935912</td>\n      <td>0.928831</td>\n      <td>0.957637</td>\n      <td>0.916233</td>\n      <td>0.651198</td>\n      <td>0.978220</td>\n      <td>0.959612</td>\n      <td>0.961444</td>\n      <td>0.877940</td>\n      <td>...</td>\n      <td>0.301147</td>\n      <td>0.364751</td>\n      <td>0.278488</td>\n      <td>0.278488</td>\n      <td>0.391712</td>\n      <td>0.063420</td>\n      <td>0.063420</td>\n      <td>0.063420</td>\n      <td>0.445386</td>\n      <td>0.475924</td>\n    </tr>\n    <tr>\n      <td>1</td>\n      <td>0.935912</td>\n      <td>0.000000</td>\n      <td>0.911951</td>\n      <td>0.959204</td>\n      <td>0.935695</td>\n      <td>0.578273</td>\n      <td>0.926992</td>\n      <td>0.926935</td>\n      <td>0.885918</td>\n      <td>0.805475</td>\n      <td>...</td>\n      <td>0.246639</td>\n      <td>0.308845</td>\n      <td>0.251910</td>\n      <td>0.251910</td>\n      <td>0.301531</td>\n      <td>0.050834</td>\n      <td>0.050834</td>\n      <td>0.050834</td>\n      <td>0.478170</td>\n      <td>0.477571</td>\n    </tr>\n    <tr>\n      <td>2</td>\n      <td>0.928831</td>\n      <td>0.911951</td>\n      <td>0.000000</td>\n      <td>0.918938</td>\n      <td>0.909503</td>\n      <td>0.620559</td>\n      <td>0.944328</td>\n      <td>0.881178</td>\n      <td>0.908247</td>\n      <td>0.818130</td>\n      <td>...</td>\n      <td>0.238607</td>\n      <td>0.276156</td>\n      <td>0.297600</td>\n      <td>0.297600</td>\n      <td>0.376613</td>\n      <td>0.061653</td>\n      <td>0.061653</td>\n      <td>0.061653</td>\n      <td>0.432209</td>\n      <td>0.516444</td>\n    </tr>\n    <tr>\n      <td>3</td>\n      <td>0.957637</td>\n      <td>0.959204</td>\n      <td>0.918938</td>\n      <td>0.000000</td>\n      <td>0.933211</td>\n      <td>0.665996</td>\n      <td>0.962338</td>\n      <td>0.972948</td>\n      <td>0.948160</td>\n      <td>0.891714</td>\n      <td>...</td>\n      <td>0.290094</td>\n      <td>0.385551</td>\n      <td>0.256391</td>\n      <td>0.256391</td>\n      <td>0.357958</td>\n      <td>0.058033</td>\n      <td>0.058033</td>\n      <td>0.058033</td>\n      <td>0.469420</td>\n      <td>0.511942</td>\n    </tr>\n    <tr>\n      <td>4</td>\n      <td>0.916233</td>\n      <td>0.935695</td>\n      <td>0.909503</td>\n      <td>0.933211</td>\n      <td>0.000000</td>\n      <td>0.584300</td>\n      <td>0.922381</td>\n      <td>0.901462</td>\n      <td>0.891050</td>\n      <td>0.787281</td>\n      <td>...</td>\n      <td>0.246367</td>\n      <td>0.292211</td>\n      <td>0.264669</td>\n      <td>0.264669</td>\n      <td>0.321959</td>\n      <td>0.054700</td>\n      <td>0.054700</td>\n      <td>0.054700</td>\n      <td>0.451055</td>\n      <td>0.483451</td>\n    </tr>\n  </tbody>\n</table>\n<p>5 rows × 1682 columns</p>\n</div>"
     },
     "metadata": {},
     "output_type": "execute_result",
     "execution_count": 44
    }
   ],
   "source": [
    "#Similaridade Cosine\n",
    "movie_similarity = 1 - pairwise_distances( ratings_matrix.as_matrix(), metric=\"cosine\" )\n",
    "np.fill_diagonal( movie_similarity, 0 ) #Filling diagonals with 0s for future use when sorting is done\n",
    "ratings_matrix = pd.DataFrame( movie_similarity )\n",
    "ratings_matrix.head(5)"
   ],
   "metadata": {
    "collapsed": false,
    "pycharm": {
     "name": "#%%\n",
     "is_executing": false
    }
   }
  },
  {
   "cell_type": "code",
   "execution_count": 49,
   "outputs": [],
   "source": [
    "# Sistema de Recomendação\n",
    "try:\n",
    "    #user_inp=input('Enter the reference movie title based on which recommendations are to be made: ')\n",
    "    user_inp=\"Speed (1994)\"\n",
    "    inp=movies[movies['title']==user_inp].index.tolist()\n",
    "    inp=inp[0]\n",
    "    \n",
    "    movies['similarity'] = ratings_matrix.iloc[inp]\n",
    "    movies.columns = ['movie_id', 'title', 'release_date','similarity']\n",
    "    movies.head(2)\n",
    "    \n",
    "except:\n",
    "    print(\"Desculpe, o filme não está no banco de dados!\")"
   ],
   "metadata": {
    "collapsed": false,
    "pycharm": {
     "name": "#%%\n",
     "is_executing": false
    }
   }
  },
  {
   "cell_type": "code",
   "execution_count": 50,
   "outputs": [
    {
     "name": "stdout",
     "text": [
      "Filmes recomendados com base na sua escolha de  Speed (1994) : \n      movie_id                                      title release_date  \\\n384       385                           True Lies (1994)  01-Jan-1994   \n160       161                             Top Gun (1986)  01-Jan-1986   \n402       403                              Batman (1989)  01-Jan-1989   \n21         22                          Braveheart (1995)  16-Feb-1996   \n95         96          Terminator 2: Judgment Day (1991)  01-Jan-1991   \n209       210  Indiana Jones and the Last Crusade (1989)  01-Jan-1989   \n264       265           Hunt for Red October, The (1990)  01-Jan-1990   \n78         79                       Fugitive, The (1993)  01-Jan-1993   \n94         95                             Aladdin (1992)  01-Jan-1992   \n\n     similarity  \n384    0.987014  \n160    0.986955  \n402    0.984767  \n21     0.984403  \n95     0.984050  \n209    0.983199  \n264    0.982735  \n78     0.982618  \n94     0.981974  \n"
     ],
     "output_type": "stream"
    }
   ],
   "source": [
    "\n",
    "print(\"Filmes recomendados com base na sua escolha de \",user_inp ,\": \\n\", movies.sort_values( [\"similarity\"], ascending = False )[1:10])\n"
   ],
   "metadata": {
    "collapsed": false,
    "pycharm": {
     "name": "#%%\n",
     "is_executing": false
    }
   }
  }
 ],
 "metadata": {
  "kernelspec": {
   "display_name": "Python 3",
   "language": "python",
   "name": "python3"
  },
  "language_info": {
   "codemirror_mode": {
    "name": "ipython",
    "version": 2
   },
   "file_extension": ".py",
   "mimetype": "text/x-python",
   "name": "python",
   "nbconvert_exporter": "python",
   "pygments_lexer": "ipython2",
   "version": "2.7.6"
  },
  "pycharm": {
   "stem_cell": {
    "cell_type": "raw",
    "source": [],
    "metadata": {
     "collapsed": false
    }
   }
  }
 },
 "nbformat": 4,
 "nbformat_minor": 0
}